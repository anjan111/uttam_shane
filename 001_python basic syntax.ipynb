{
 "cells": [
  {
   "cell_type": "markdown",
   "metadata": {},
   "source": [
    "#####  syntax \n",
    "\n",
    "--->>The structure for writing program\n",
    "\n",
    "##### program\n",
    "\n",
    "--->> collection of instructions to do any one specific task\n",
    "\n",
    "##### instruction\n",
    "\n",
    "--->> A line of code with in the program\n",
    "\n",
    "######## 1. comment\n",
    "\n",
    "        --->> whatever the instructions which can't be executable\n",
    "        \n",
    "        --->> to give the brief explanation for each and every statements\n",
    "        \n",
    "            1. single line comment  --->> #\n",
    "            \n",
    "            2. Multiline comment   --->> ''' '''\n",
    "            \n",
    "####### 2. statement\n",
    "\n",
    "        --->> An instruction which can be executable "
   ]
  },
  {
   "cell_type": "code",
   "execution_count": 1,
   "metadata": {},
   "outputs": [
    {
     "name": "stdout",
     "output_type": "stream",
     "text": [
      "hello\n",
      "hai\n",
      "bye\n"
     ]
    }
   ],
   "source": [
    "#single line comment \n",
    "'''\n",
    "this is\n",
    "multiline\n",
    "comment\n",
    "'''\n",
    "print \"hello\"\n",
    "print \"hai\"\n",
    "print \"bye\""
   ]
  },
  {
   "cell_type": "code",
   "execution_count": 3,
   "metadata": {},
   "outputs": [
    {
     "name": "stdout",
     "output_type": "stream",
     "text": [
      "['and', 'as', 'assert', 'break', 'class', 'continue', 'def', 'del', 'elif', 'else', 'except', 'exec', 'finally', 'for', 'from', 'global', 'if', 'import', 'in', 'is', 'lambda', 'not', 'or', 'pass', 'print', 'raise', 'return', 'try', 'while', 'with', 'yield']\n"
     ]
    }
   ],
   "source": [
    "# keywords \n",
    "'''\n",
    "--->> pre defined words \n",
    "--->> each and every keyword which having its own task\n",
    "'''\n",
    "import keyword\n",
    "print keyword.kwlist"
   ]
  },
  {
   "cell_type": "code",
   "execution_count": 1,
   "metadata": {},
   "outputs": [
    {
     "name": "stdout",
     "output_type": "stream",
     "text": [
      "123\n"
     ]
    }
   ],
   "source": [
    "#identifier \n",
    "'''\n",
    "-->> user defined words \n",
    "-->> to give the names for variables , classes , functions \n",
    "'''\n",
    "# rules \n",
    "'''\n",
    "--->> we can use the alphabets a-z / A -Z\n",
    "--->> we can use digits  0 - 9\n",
    "--->> we can use underscore  _\n",
    "--->> don't start with digit\n",
    "--->> don't use the keywords\n",
    "--->> don't use special character \n",
    "'''\n",
    "# variable\n",
    "'''\n",
    "--->>which is an indenfier\n",
    "--->> to store the data with in memory loc\n",
    "'''\n",
    "var = 123\n",
    "print var"
   ]
  },
  {
   "cell_type": "code",
   "execution_count": 2,
   "metadata": {},
   "outputs": [
    {
     "name": "stdout",
     "output_type": "stream",
     "text": [
      "12.454\n"
     ]
    }
   ],
   "source": [
    "var = 12.454\n",
    "print var"
   ]
  },
  {
   "cell_type": "code",
   "execution_count": 3,
   "metadata": {},
   "outputs": [
    {
     "name": "stdout",
     "output_type": "stream",
     "text": [
      "True\n"
     ]
    }
   ],
   "source": [
    "Var = True\n",
    "print Var"
   ]
  },
  {
   "cell_type": "code",
   "execution_count": 4,
   "metadata": {},
   "outputs": [
    {
     "name": "stdout",
     "output_type": "stream",
     "text": [
      "False\n"
     ]
    }
   ],
   "source": [
    "_var =False\n",
    "print _var"
   ]
  },
  {
   "cell_type": "code",
   "execution_count": 5,
   "metadata": {},
   "outputs": [
    {
     "name": "stdout",
     "output_type": "stream",
     "text": [
      "None\n"
     ]
    }
   ],
   "source": [
    "v3r = None\n",
    "print v3r"
   ]
  },
  {
   "cell_type": "code",
   "execution_count": 6,
   "metadata": {},
   "outputs": [
    {
     "name": "stdout",
     "output_type": "stream",
     "text": [
      "34\n"
     ]
    }
   ],
   "source": [
    "VAR = 34\n",
    "print VAR"
   ]
  },
  {
   "cell_type": "code",
   "execution_count": 7,
   "metadata": {},
   "outputs": [
    {
     "ename": "SyntaxError",
     "evalue": "invalid syntax (<ipython-input-7-00bee6576222>, line 1)",
     "output_type": "error",
     "traceback": [
      "\u001b[1;36m  File \u001b[1;32m\"<ipython-input-7-00bee6576222>\"\u001b[1;36m, line \u001b[1;32m1\u001b[0m\n\u001b[1;33m    6var =34\u001b[0m\n\u001b[1;37m       ^\u001b[0m\n\u001b[1;31mSyntaxError\u001b[0m\u001b[1;31m:\u001b[0m invalid syntax\n"
     ]
    }
   ],
   "source": [
    "6var =34"
   ]
  },
  {
   "cell_type": "code",
   "execution_count": 8,
   "metadata": {},
   "outputs": [
    {
     "ename": "SyntaxError",
     "evalue": "invalid syntax (<ipython-input-8-f4e800a215db>, line 1)",
     "output_type": "error",
     "traceback": [
      "\u001b[1;36m  File \u001b[1;32m\"<ipython-input-8-f4e800a215db>\"\u001b[1;36m, line \u001b[1;32m1\u001b[0m\n\u001b[1;33m    while =23\u001b[0m\n\u001b[1;37m          ^\u001b[0m\n\u001b[1;31mSyntaxError\u001b[0m\u001b[1;31m:\u001b[0m invalid syntax\n"
     ]
    }
   ],
   "source": [
    "while =23"
   ]
  },
  {
   "cell_type": "code",
   "execution_count": 9,
   "metadata": {},
   "outputs": [
    {
     "ename": "SyntaxError",
     "evalue": "invalid syntax (<ipython-input-9-9d96097f694a>, line 1)",
     "output_type": "error",
     "traceback": [
      "\u001b[1;36m  File \u001b[1;32m\"<ipython-input-9-9d96097f694a>\"\u001b[1;36m, line \u001b[1;32m1\u001b[0m\n\u001b[1;33m    v$e =12\u001b[0m\n\u001b[1;37m     ^\u001b[0m\n\u001b[1;31mSyntaxError\u001b[0m\u001b[1;31m:\u001b[0m invalid syntax\n"
     ]
    }
   ],
   "source": [
    "v$e =12"
   ]
  },
  {
   "cell_type": "code",
   "execution_count": 10,
   "metadata": {},
   "outputs": [
    {
     "name": "stdout",
     "output_type": "stream",
     "text": [
      "123\n",
      "<type 'int'>\n",
      "42963120\n"
     ]
    }
   ],
   "source": [
    "# datatypes\n",
    "'''\n",
    "-->> what type of data can holded by variable\n",
    "-->> 2 types\n",
    "'''\n",
    "# type()--->> to know the datatype\n",
    "# id() ---->> to know the memory loc\n",
    "# fundamental  data type\n",
    "'''\n",
    "--->> a single variable can hold single data element\n",
    "1. int\n",
    "2. float\n",
    "3. complex\n",
    "4. bool\n",
    "5. None\n",
    "\n",
    "'''\n",
    "var = 123\n",
    "print var\n",
    "print type(var)\n",
    "print id(var)"
   ]
  },
  {
   "cell_type": "code",
   "execution_count": 11,
   "metadata": {},
   "outputs": [
    {
     "name": "stdout",
     "output_type": "stream",
     "text": [
      "12.4543\n",
      "<type 'float'>\n",
      "71080768\n"
     ]
    }
   ],
   "source": [
    "var = 12.4543\n",
    "print var\n",
    "print type(var)\n",
    "print id(var)"
   ]
  },
  {
   "cell_type": "code",
   "execution_count": 12,
   "metadata": {},
   "outputs": [
    {
     "name": "stdout",
     "output_type": "stream",
     "text": [
      "(43+12j)\n",
      "<type 'complex'>\n",
      "71846512\n"
     ]
    }
   ],
   "source": [
    "var = 43 + 12j\n",
    "print var\n",
    "print type(var)\n",
    "print id(var)"
   ]
  },
  {
   "cell_type": "code",
   "execution_count": 13,
   "metadata": {},
   "outputs": [
    {
     "name": "stdout",
     "output_type": "stream",
     "text": [
      "True\n",
      "<type 'bool'>\n",
      "1569963752\n",
      "False\n",
      "<type 'bool'>\n",
      "1569963336\n"
     ]
    }
   ],
   "source": [
    "var = True\n",
    "print var\n",
    "print type(var)\n",
    "print id(var)\n",
    "var = False\n",
    "print var\n",
    "print type(var)\n",
    "print id(var)"
   ]
  },
  {
   "cell_type": "code",
   "execution_count": 14,
   "metadata": {},
   "outputs": [
    {
     "name": "stdout",
     "output_type": "stream",
     "text": [
      "None\n",
      "<type 'NoneType'>\n",
      "1569918072\n"
     ]
    }
   ],
   "source": [
    "var = None\n",
    "print var\n",
    "print type(var)\n",
    "print id(var)"
   ]
  },
  {
   "cell_type": "code",
   "execution_count": 15,
   "metadata": {},
   "outputs": [
    {
     "name": "stdout",
     "output_type": "stream",
     "text": [
      "python\n",
      "<type 'str'>\n",
      "43104096\n"
     ]
    }
   ],
   "source": [
    "# seqencial datatype\n",
    "'''\n",
    "-->> A single variable can hold multiple data elements\n",
    "# str --->> \"\"\n",
    "# list --> []\n",
    "# tuple --> ()\n",
    "# set ----> {}\n",
    "# dict----> {}\n",
    "'''\n",
    "var = \"python\"\n",
    "print var\n",
    "print type(var)\n",
    "print id(var)"
   ]
  },
  {
   "cell_type": "code",
   "execution_count": 16,
   "metadata": {},
   "outputs": [
    {
     "name": "stdout",
     "output_type": "stream",
     "text": [
      "[12, 3, 2]\n",
      "<type 'list'>\n",
      "71241416\n"
     ]
    }
   ],
   "source": [
    "var = [12, 3, 2]\n",
    "print var\n",
    "print type(var)\n",
    "print id(var)"
   ]
  },
  {
   "cell_type": "code",
   "execution_count": 17,
   "metadata": {},
   "outputs": [
    {
     "name": "stdout",
     "output_type": "stream",
     "text": [
      "(12, 3, 2)\n",
      "<type 'tuple'>\n",
      "77831048\n"
     ]
    }
   ],
   "source": [
    "var = (12, 3, 2)\n",
    "print var\n",
    "print type(var)\n",
    "print id(var)"
   ]
  },
  {
   "cell_type": "code",
   "execution_count": 18,
   "metadata": {},
   "outputs": [
    {
     "name": "stdout",
     "output_type": "stream",
     "text": [
      "set([2, 3, 12])\n",
      "<type 'set'>\n",
      "68443944\n"
     ]
    }
   ],
   "source": [
    "var = {12, 3, 2}\n",
    "print var\n",
    "print type(var)\n",
    "print id(var)"
   ]
  },
  {
   "cell_type": "code",
   "execution_count": 19,
   "metadata": {},
   "outputs": [
    {
     "name": "stdout",
     "output_type": "stream",
     "text": [
      "{2: 'c', 3: 'o', 12: 's'}\n",
      "<type 'dict'>\n",
      "78455672\n"
     ]
    }
   ],
   "source": [
    "var = {12 : \"s\", 3:\"o\", 2:\"c\"}\n",
    "print var\n",
    "print type(var)\n",
    "print id(var)"
   ]
  },
  {
   "cell_type": "code",
   "execution_count": null,
   "metadata": {},
   "outputs": [],
   "source": []
  }
 ],
 "metadata": {
  "kernelspec": {
   "display_name": "Python 2",
   "language": "python",
   "name": "python2"
  },
  "language_info": {
   "codemirror_mode": {
    "name": "ipython",
    "version": 2
   },
   "file_extension": ".py",
   "mimetype": "text/x-python",
   "name": "python",
   "nbconvert_exporter": "python",
   "pygments_lexer": "ipython2",
   "version": "2.7.16"
  }
 },
 "nbformat": 4,
 "nbformat_minor": 2
}
